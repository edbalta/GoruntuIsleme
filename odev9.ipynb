{
 "cells": [
  {
   "cell_type": "code",
   "execution_count": 43,
   "metadata": {},
   "outputs": [],
   "source": [
    "import numpy as np\n",
    " \n",
    "class Perceptron(object):\n",
    "\n",
    "    def __init__(self, input_size, lr=1, epochs=10):\n",
    "        self.W = np.zeros(input_size+1)\n",
    "        # add one for bias\n",
    "        self.epochs = epochs\n",
    "        self.lr = lr\n",
    "    \n",
    "  \n",
    "    def activation_fn(self, x):\n",
    "        return 1 if x >= 0 else 0    \n",
    "    \n",
    "    def predict(self, x):\n",
    "        x = np.insert(x, 0, 1)\n",
    "        z = self.W.T.dot(x)\n",
    "        a = self.activation_fn(z)\n",
    "        return a\n",
    "    def fit(self, X, d):\n",
    "        for _ in range(self.epochs):\n",
    "            for i in range(d.shape[0]):\n",
    "                y = self.predict(X[i])\n",
    "                e = d[i] - y\n",
    "                self.W = self.W + self.lr * e * np.insert(X[i], 0, 1)\n",
    "                \n"
   ]
  },
  {
   "cell_type": "code",
   "execution_count": 44,
   "metadata": {},
   "outputs": [],
   "source": [
    " X = np.array([\n",
    "        [0, 0],\n",
    "        [0, 1],\n",
    "        [1, 0],\n",
    "        [1, 1]\n",
    "    ])\n",
    "d = np.array([0, 0, 0, 1])\n",
    " \n",
    "\n"
   ]
  },
  {
   "cell_type": "code",
   "execution_count": 45,
   "metadata": {},
   "outputs": [
    {
     "data": {
      "text/plain": [
       "array([0, 0, 0, 1])"
      ]
     },
     "execution_count": 45,
     "metadata": {},
     "output_type": "execute_result"
    }
   ],
   "source": [
    "d"
   ]
  },
  {
   "cell_type": "code",
   "execution_count": 46,
   "metadata": {},
   "outputs": [],
   "source": [
    "perceptron = Perceptron(input_size=2)"
   ]
  },
  {
   "cell_type": "code",
   "execution_count": 47,
   "metadata": {},
   "outputs": [
    {
     "data": {
      "text/plain": [
       "array([0., 0., 0.])"
      ]
     },
     "execution_count": 47,
     "metadata": {},
     "output_type": "execute_result"
    }
   ],
   "source": [
    "perceptron.W"
   ]
  },
  {
   "cell_type": "code",
   "execution_count": 48,
   "metadata": {},
   "outputs": [
    {
     "name": "stdout",
     "output_type": "stream",
     "text": [
      "[-3.  2.  1.]\n"
     ]
    }
   ],
   "source": [
    "perceptron.fit(X, d)\n",
    "print(perceptron.W)"
   ]
  },
  {
   "cell_type": "code",
   "execution_count": 49,
   "metadata": {},
   "outputs": [
    {
     "data": {
      "text/plain": [
       "1"
      ]
     },
     "execution_count": 49,
     "metadata": {},
     "output_type": "execute_result"
    }
   ],
   "source": [
    "mp=Perceptron(5)\n",
    "x=np.asarray([-10,2,-30,4,-50])\n",
    "mp.predict(x)"
   ]
  },
  {
   "cell_type": "code",
   "execution_count": 50,
   "metadata": {},
   "outputs": [
    {
     "data": {
      "text/plain": [
       "0"
      ]
     },
     "execution_count": 50,
     "metadata": {},
     "output_type": "execute_result"
    }
   ],
   "source": [
    "\n",
    "mp.activation_fn(-1)"
   ]
  },
  {
   "cell_type": "code",
   "execution_count": 51,
   "metadata": {},
   "outputs": [
    {
     "data": {
      "text/plain": [
       "array([0., 0., 0., 0., 0., 0.])"
      ]
     },
     "execution_count": 51,
     "metadata": {},
     "output_type": "execute_result"
    }
   ],
   "source": [
    "mp.W"
   ]
  },
  {
   "cell_type": "code",
   "execution_count": 11,
   "metadata": {
    "collapsed": true
   },
   "outputs": [
    {
     "data": {
      "text/plain": [
       "\"\\n a)   def __init__(self, input_size, lr=1, epochs=10):\\n         Bu fonksiyon constructor fonksiyon. Nesne oluşturulunca çalışır. lr ve epochs değişkenlerine varsayılan değerler olarak atanmış.\\n         W parametresine ise 0'lardan oluşan bir dizi atıyoruz. Boyutuna +1 eklememizin sebebi sapmayı da hesaba katıyor olmamız.\\n\\n         learning rate(LR): Her dolaşımda düzeltilecek olan miktarı kısıtlamak için kullanılır\\n\\n         epochs: veri setinin kaç kere dolaşılacağını belirtir.\\n     \\n b)  def activation_fn(self, x) \\n            \\n         Bu fonksyion kendisine gelen x değerini kontrol ediyor. Veri setini 2'ye ayırıyor. Eğer x>0 ise 1 değilse 0 döndürüyor.\\n\\n c)\\n      def predict(self, x)\\n           \\n        x değerinin 0. elemanına 1 koyuyor ve bunu W transpozesi ile dot product işlemine sokuyor. Oluşan çıktıyı activation_fn\\n        fonksiyonuna gönderip dönen değeri döndürüyor\\n        \\n  d)\\n       def fit(self, X, d)\\n            \\n            xin içindeki tüm verileri dolaşıp e=d[i]-y yaparak error(e) buluyoruz \\n            Ve son satırdaki W değerini error kullanarak yeniden oluşturuyoruz.\\n         \\n\\n\""
      ]
     },
     "execution_count": 11,
     "metadata": {},
     "output_type": "execute_result"
    }
   ],
   "source": [
    "# 1. soru                \n",
    "\"\"\"\n",
    " a)   def __init__(self, input_size, lr=1, epochs=10):\n",
    "         Bu fonksiyon constructor fonksiyon. Nesne oluşturulunca çalışır. lr ve epochs değişkenlerine varsayılan değerler olarak atanmış.\n",
    "         W parametresine ise 0'lardan oluşan bir dizi atıyoruz. Boyutuna +1 eklememizin sebebi sapmayı da hesaba katıyor olmamız.\n",
    "\n",
    "         learning rate(LR): Her dolaşımda düzeltilecek olan miktarı kısıtlamak için kullanılır\n",
    "\n",
    "         epochs: veri setinin kaç kere dolaşılacağını belirtir.\n",
    "     \n",
    " b)  def activation_fn(self, x):\n",
    "            \n",
    "         Bu fonksyion kendisine gelen x değerini kontrol ediyor. Veri setini 2'ye ayırıyor. Eğer x>0 ise 1 değilse 0 döndürüyor.\n",
    "\n",
    " c)\n",
    "      def predict(self, x):\n",
    "           \n",
    "        x değerinin 0. elemanına 1 koyuyor ve bunu W transpozesi ile dot product işlemine sokuyor. Oluşan çıktıyı activation_fn\n",
    "        fonksiyonuna gönderip dönen değeri döndürüyor\n",
    "        \n",
    "  d)\n",
    "       def fit(self, X, d):\n",
    "            \n",
    "            xin içindeki tüm verileri dolaşıp e=d[i]-y yaparak error(e) buluyoruz \n",
    "            Ve son satırdaki W değerini error kullanarak yeniden oluşturuyoruz.\n",
    "         \n",
    "\n",
    "\"\"\""
   ]
  },
  {
   "cell_type": "code",
   "execution_count": 52,
   "metadata": {},
   "outputs": [
    {
     "data": {
      "text/plain": [
       "array([-1.,  1.,  0.])"
      ]
     },
     "execution_count": 52,
     "metadata": {},
     "output_type": "execute_result"
    }
   ],
   "source": [
    "# 2. soru \n",
    "d2 = np.array([0, 0, 1, 1]) \n",
    "perceptron2 = Perceptron(input_size=2)\n",
    "perceptron2.W\n",
    "perceptron2.fit(X, d2)\n",
    "perceptron2.W"
   ]
  },
  {
   "cell_type": "code",
   "execution_count": null,
   "metadata": {},
   "outputs": [],
   "source": [
    "# 4. soru \n",
    "\n",
    "\"\"\"\n",
    "Fonksiyonumuzdaki hata istenen değer ve elimizdeki sonuç arasındaki fark anlamına gelir.\n",
    "\n",
    "\"\"\""
   ]
  }
 ],
 "metadata": {
  "kernelspec": {
   "display_name": "Python 3",
   "language": "python",
   "name": "python3"
  },
  "language_info": {
   "codemirror_mode": {
    "name": "ipython",
    "version": 3
   },
   "file_extension": ".py",
   "mimetype": "text/x-python",
   "name": "python",
   "nbconvert_exporter": "python",
   "pygments_lexer": "ipython3",
   "version": "3.8.5"
  }
 },
 "nbformat": 4,
 "nbformat_minor": 4
}
